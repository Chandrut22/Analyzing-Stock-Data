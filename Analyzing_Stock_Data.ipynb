{
  "nbformat": 4,
  "nbformat_minor": 0,
  "metadata": {
    "colab": {
      "provenance": []
    },
    "kernelspec": {
      "name": "python3",
      "display_name": "Python 3"
    },
    "language_info": {
      "name": "python"
    }
  },
  "cells": [
    {
      "cell_type": "code",
      "source": [
        "from math import log, sqrt"
      ],
      "metadata": {
        "id": "1PRPwINyvgDo"
      },
      "execution_count": 19,
      "outputs": []
    },
    {
      "cell_type": "code",
      "execution_count": 20,
      "metadata": {
        "id": "3f3j9JgKvRv2"
      },
      "outputs": [],
      "source": [
        "def calculate_log_return(start_price, end_price):\n",
        "  return log(end_price / start_price)"
      ]
    },
    {
      "cell_type": "code",
      "source": [
        "def calculate_variance(dataset):\n",
        "  mean = sum(dataset) / len(dataset)\n",
        "\n",
        "  numerator = 0\n",
        "\n",
        "  for data in dataset:\n",
        "    numerator += (data - mean) ** 2\n",
        "  return numerator / len(dataset)"
      ],
      "metadata": {
        "id": "7e0J_br8NxmT"
      },
      "execution_count": 21,
      "outputs": []
    },
    {
      "cell_type": "code",
      "source": [
        "def calculate_correlation(set_x, set_y):\n",
        "  sum_x = sum(set_x)\n",
        "  sum_y = sum(set_y)\n",
        "\n",
        "  sum_x2 = sum([x ** 2 for x in set_x])\n",
        "  sum_y2 = sum([y ** 2 for y in set_y])\n",
        "\n",
        "  sum_xy = sum([x * y for x, y in zip(set_x, set_y)])\n",
        "\n",
        "  n = len(set_x)\n",
        "\n",
        "  numerator = n * sum_xy - sum_x * sum_y\n",
        "  denominator = sqrt((n * sum_x2 - sum_x ** 2) * (n * sum_y2 - sum_y ** 2))\n",
        "\n",
        "  return numerator / denominator"
      ],
      "metadata": {
        "id": "ZdpPyEJmN8tb"
      },
      "execution_count": 22,
      "outputs": []
    },
    {
      "cell_type": "code",
      "source": [
        "def calculate_stddev(dataset):\n",
        "  variance = calculate_variance(dataset)\n",
        "  return sqrt(variance)"
      ],
      "metadata": {
        "id": "gcEBPlovN3AC"
      },
      "execution_count": 23,
      "outputs": []
    },
    {
      "cell_type": "code",
      "source": [
        "def display_as_percentage(val):\n",
        "  return '{:.1f}%'.format(val * 100)"
      ],
      "metadata": {
        "id": "kKkLgePxvbln"
      },
      "execution_count": 24,
      "outputs": []
    },
    {
      "cell_type": "code",
      "source": [
        "amazon_prices = [1699.8, 1777.44, 2012.71, 2003.0, 1598.01, 1690.17, 1501.97, 1718.73, 1639.83, 1780.75, 1926.52, 1775.07, 1893.63]\n",
        "ebay_prices = [35.98, 33.2, 34.35, 32.77, 28.81, 29.62, 27.86, 33.39, 37.01, 37.0, 38.6, 35.93, 39.5]"
      ],
      "metadata": {
        "id": "_cKziY45v81v"
      },
      "execution_count": 25,
      "outputs": []
    },
    {
      "cell_type": "code",
      "source": [
        "returns =[]\n",
        "\n",
        "def get_returns(prices):\n",
        "  for i in range (0,len(prices)-1):\n",
        "    start_prices = prices[i]\n",
        "    end_prices = prices[i +1]\n",
        "    returns = calculate_log_return (start_prices,end_prices)\n",
        "  return returns"
      ],
      "metadata": {
        "id": "-9eG2whCv9yi"
      },
      "execution_count": 26,
      "outputs": []
    },
    {
      "cell_type": "code",
      "source": [
        "amazon_returns = get_returns(amazon_prices)\n",
        "amazon_returns"
      ],
      "metadata": {
        "colab": {
          "base_uri": "https://localhost:8080/"
        },
        "id": "1ZWDihDfwLmp",
        "outputId": "4bffd0f4-146a-4c0f-aaff-a4fbcd94a35c"
      },
      "execution_count": 27,
      "outputs": [
        {
          "output_type": "execute_result",
          "data": {
            "text/plain": [
              "0.06465576316168306"
            ]
          },
          "metadata": {},
          "execution_count": 27
        }
      ]
    },
    {
      "cell_type": "code",
      "source": [
        "ebay_returns = get_returns(ebay_prices)\n",
        "ebay_returns"
      ],
      "metadata": {
        "colab": {
          "base_uri": "https://localhost:8080/"
        },
        "id": "Q1mN65yGwW8I",
        "outputId": "8d0a7e31-c2f3-420c-9bfb-0b8f118b5caf"
      },
      "execution_count": 28,
      "outputs": [
        {
          "output_type": "execute_result",
          "data": {
            "text/plain": [
              "0.09472807078164892"
            ]
          },
          "metadata": {},
          "execution_count": 28
        }
      ]
    },
    {
      "cell_type": "code",
      "source": [
        "print('Amazon returns is:',display_as_percentage(amazon_returns))\n",
        "print('Ebay returns is:',display_as_percentage(ebay_returns))"
      ],
      "metadata": {
        "colab": {
          "base_uri": "https://localhost:8080/"
        },
        "id": "efiPJJqewaTv",
        "outputId": "090c0c4e-1cbc-4dce-dfe8-8a2156c44316"
      },
      "execution_count": 29,
      "outputs": [
        {
          "output_type": "stream",
          "name": "stdout",
          "text": [
            "Amazon returns is: 6.5%\n",
            "Ebay returns is: 9.5%\n"
          ]
        }
      ]
    },
    {
      "cell_type": "code",
      "source": [
        "sum_amazon_returns = sum(amazon_prices)\n",
        "sum_ebay_returns = sum(ebay_prices)"
      ],
      "metadata": {
        "id": "_Ti8w7ATwkWo"
      },
      "execution_count": 30,
      "outputs": []
    },
    {
      "cell_type": "code",
      "source": [
        "print('Amazon returns is:',display_as_percentage(sum_amazon_returns))\n",
        "print('Ebay returns is:',display_as_percentage(sum_ebay_returns))"
      ],
      "metadata": {
        "colab": {
          "base_uri": "https://localhost:8080/"
        },
        "id": "AGnDhLPJwmdL",
        "outputId": "ba2eb77f-1aa4-4e46-afec-63db1365b2e2"
      },
      "execution_count": 31,
      "outputs": [
        {
          "output_type": "stream",
          "name": "stdout",
          "text": [
            "Amazon returns is: 2301763.0%\n",
            "Ebay returns is: 44402.0%\n"
          ]
        }
      ]
    }
  ]
}